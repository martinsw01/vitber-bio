{
 "cells": [
  {
   "cell_type": "markdown",
   "metadata": {
    "collapsed": true,
    "pycharm": {
     "name": "#%% md\n"
    }
   },
   "source": [
    "Oppgave 1"
   ]
  },
  {
   "cell_type": "code",
   "source": [
    "import numpy as np\n",
    "import matplotlib.pyplot as plt\n",
    "from numba import njit\n",
    "import random\n",
    "import time"
   ],
   "metadata": {
    "collapsed": false,
    "pycharm": {
     "name": "#%%\n"
    }
   },
   "execution_count": 2,
   "outputs": []
  },
  {
   "cell_type": "code",
   "execution_count": 3,
   "outputs": [],
   "source": [
    "# Oppgave 1a)\n",
    "\n",
    "def create_grid(N, M):\n",
    "    grid = np.zeros((N, N), dtype=int)\n",
    "    indices = [(i, j) for i in range(N) for j in range(N)]\n",
    "    random_monomer_indices = random.sample(indices, 2 * M)\n",
    "    monomers = [m for m in range(-M, M + 1) if m != 0]\n",
    "    for monomer, index in zip(monomers, random_monomer_indices):\n",
    "        grid[index] = monomer\n",
    "    return grid"
   ],
   "metadata": {
    "collapsed": false,
    "pycharm": {
     "name": "#%%\n"
    }
   }
  },
  {
   "cell_type": "code",
   "execution_count": 4,
   "outputs": [
    {
     "data": {
      "text/plain": "<Figure size 432x288 with 1 Axes>",
      "image/png": "[encoded data removed]"
     },
     "metadata": {
      "needs_background": "light"
     },
     "output_type": "display_data"
    }
   ],
   "source": [
    "# Oppgave 1b)\n",
    "\n",
    "def show_monomers(grid, M):\n",
    "    \"\"\"\n",
    "    Input is the grid (grid) as well as the number of monomers (M).\n",
    "    \"\"\"\n",
    "    plt.figure(1)\n",
    "    plt.pcolormesh(np.sign(grid)[::-1,])\n",
    "    plt.title(f\"{2*M} monomers\")\n",
    "    plt.show()\n",
    "\n",
    "N = 15\n",
    "M = 20\n",
    "grid = create_grid(N, M)\n",
    "show_monomers(grid, M)"
   ],
   "metadata": {
    "collapsed": false,
    "pycharm": {
     "name": "#%%\n"
    }
   }
  },
  {
   "cell_type": "code",
   "execution_count": 5,
   "outputs": [],
   "source": [
    "# Oppgave 1c)\n",
    "\n",
    "@njit\n",
    "def neighbor_coordinates(N, i, j):\n",
    "    neighbors = (((i - 1) % N, j), (i, (j - 1) % N), ((i + 1) % N, j), (i, (j + 1) % N))\n",
    "    return neighbors"
   ],
   "metadata": {
    "collapsed": false,
    "pycharm": {
     "name": "#%%\n"
    }
   }
  },
  {
   "cell_type": "code",
   "execution_count": 6,
   "outputs": [
    {
     "name": "stdout",
     "output_type": "stream",
     "text": [
      "14\n"
     ]
    }
   ],
   "source": [
    "# Oppgave 1d)\n",
    "\n",
    "ε_r = 78  # [1] Relative permittivity\n",
    "ε_0 = 8.85418782e-12  # [m^-3 kg^-1 s^4 A^2] vacuum permittivity\n",
    "a = 23e-6  # [m] Distance between grid points (23 microns)\n",
    "e = 1.60217662e-19  # [C]\n",
    "α = e ** 2 / (4 * np.pi * ε_r * ε_0 * a ** 2)\n",
    "\n",
    "@njit\n",
    "def calc_relative_energy(grid):\n",
    "    N = len(grid)\n",
    "    monomer_indices = np.where(grid != 0)\n",
    "    relative_energy = 0\n",
    "\n",
    "    for monomer_index in zip(*monomer_indices):\n",
    "        monomer = grid[monomer_index]\n",
    "        for neighbor_coord in neighbor_coordinates(N, *monomer_index):\n",
    "            neighbour_monomer = grid[neighbor_coord]\n",
    "            if neighbour_monomer != monomer and neighbour_monomer != 0:  # i.e. not the same type or solvent\n",
    "                relative_energy += np.sign(monomer) * np.sign(neighbour_monomer)\n",
    "\n",
    "    return relative_energy\n",
    "print(calc_relative_energy(grid))"
   ],
   "metadata": {
    "collapsed": false,
    "pycharm": {
     "name": "#%%\n"
    }
   }
  },
  {
   "cell_type": "code",
   "execution_count": 7,
   "outputs": [],
   "source": [
    "# Oppgave 1 e)\n",
    "\n",
    "@njit\n",
    "def move_random_polymer(grid, M, is_illegal_move, move_polymer):\n",
    "    random_polymer, random_direction = choose_random_legal_move(grid, M, is_illegal_move)\n",
    "    return move_polymer(grid, random_polymer, random_direction)\n",
    "\n",
    "\n",
    "@njit\n",
    "def illegal_move(grid, monomer, direction):\n",
    "    N = len(grid)\n",
    "    monomer_location = np.where(grid == monomer)\n",
    "    return grid[(monomer_location[0][0] + direction[0]) % N, (monomer_location[1][0] + direction[1]) % N] != 0\n",
    "\n",
    "@njit\n",
    "def move_monomer(grid, monomer, direction):\n",
    "    N = len(grid)\n",
    "    new_grid = np.copy(grid)\n",
    "    monomer_location = np.where(grid == monomer)\n",
    "    new_grid[monomer_location[0][0], monomer_location[1][0]] = 0\n",
    "    new_grid[(monomer_location[0][0] + direction[0]) % N, (monomer_location[1][0] + direction[1]) % N] = monomer\n",
    "    return new_grid\n",
    "\n",
    "@njit\n",
    "def do_nothing(*args): pass\n",
    "\n",
    "@njit\n",
    "def choose_random_polymer(M):\n",
    "    a = np.random.randint(-M, M)\n",
    "    while not a:\n",
    "        a = np.random.randint(-M, M)\n",
    "    return a\n",
    "\n",
    "\n",
    "directions = np.array([[-1, 0], [0, -1], [1, 0], [0, 1]])\n",
    "@njit\n",
    "def choose_random_direction():\n",
    "    i = np.random.randint(0, 4)\n",
    "    return directions[i]\n",
    "\n",
    "@njit\n",
    "def choose_random_legal_move(grid, M, is_illegal_move=illegal_move):\n",
    "    random_monomer = choose_random_polymer(M)\n",
    "    random_direction = choose_random_direction()\n",
    "    while is_illegal_move(grid, random_monomer, random_direction):\n",
    "        random_monomer = choose_random_polymer(M)\n",
    "        random_direction = choose_random_direction()\n",
    "    return random_monomer, random_direction\n",
    "\n",
    "@njit\n",
    "def should_measure(t, t_equil, t_r):\n",
    "    return (t - t_equil) > 0 and (t - t_equil) % t_r == 0\n",
    "\n",
    "@njit\n",
    "def thermal_fluctuation(new_energy, energy, beta):\n",
    "    return random.uniform(0, 1) < np.exp(-beta * (new_energy - energy))\n",
    "\n",
    "@njit\n",
    "def add_neighbours_to_cluster(grid, cluster_grid, cluster, monomer_coordinate):\n",
    "    N = len(grid)\n",
    "    for neighbor_coordinate in neighbor_coordinates(N, *monomer_coordinate):\n",
    "        if grid[neighbor_coordinate] != 0 and cluster_grid[neighbor_coordinate] == 0:\n",
    "            cluster_grid[neighbor_coordinate] = cluster\n",
    "            add_neighbours_to_cluster(grid, cluster_grid, cluster, neighbor_coordinate)\n",
    "\n",
    "@njit\n",
    "def get_cluster_grid(grid):\n",
    "    cluster_grid = np.zeros_like(grid)\n",
    "    monomer_positions = np.where(grid != 0)\n",
    "    cluster = 0\n",
    "    for monomer_position in zip(*monomer_positions):\n",
    "        if cluster_grid[monomer_position] == 0:\n",
    "            cluster += 1\n",
    "            cluster_grid[monomer_position] = cluster\n",
    "            add_neighbours_to_cluster(grid, cluster_grid, cluster, monomer_position)\n",
    "\n",
    "    return cluster_grid, cluster\n",
    "\n",
    "@njit\n",
    "def monte_carlo(grid, N_s, M, T, n=0, t_equil=np.inf, t_r=np.inf,\n",
    "                is_illegal_move=illegal_move, move_polymer=move_monomer, on_iteration=do_nothing):\n",
    "    epsilon = np.zeros(N_s)\n",
    "    beta = 1 / (T * 1.380649e-23) * α / 2\n",
    "\n",
    "    cluster_sizes = np.zeros(n)\n",
    "    measure_index = 0\n",
    "\n",
    "    for t in range(N_s):\n",
    "        rel_energy = calc_relative_energy(grid)\n",
    "\n",
    "        new_grid = move_random_polymer(grid, M, is_illegal_move, move_polymer)\n",
    "        new_rel_energy = calc_relative_energy(new_grid)\n",
    "\n",
    "        if new_rel_energy < rel_energy or thermal_fluctuation(new_rel_energy, rel_energy, beta):\n",
    "            grid = new_grid\n",
    "            rel_energy = new_rel_energy\n",
    "\n",
    "        epsilon[t] = rel_energy\n",
    "\n",
    "        if should_measure(t, t_equil, t_r):\n",
    "            _, d = get_cluster_grid(grid)\n",
    "            cluster_sizes[measure_index] = 2 * M / d\n",
    "            measure_index += 1\n",
    "\n",
    "        if t % 100 == 1:\n",
    "            on_iteration(grid, epsilon[:t])\n",
    "\n",
    "    if t_r == np.inf:\n",
    "        return grid, epsilon, 0\n",
    "\n",
    "    return grid, epsilon, np.mean(cluster_sizes[:measure_index])"
   ],
   "metadata": {
    "collapsed": false,
    "pycharm": {
     "name": "#%%\n"
    }
   }
  },
  {
   "cell_type": "code",
   "execution_count": 8,
   "outputs": [
    {
     "data": {
      "text/plain": "<Figure size 432x288 with 2 Axes>",
      "image/png": "[encoded data removed]"
     },
     "metadata": {
      "needs_background": "light"
     },
     "output_type": "display_data"
    },
    {
     "data": {
      "text/plain": "<Figure size 432x288 with 2 Axes>",
      "image/png": "[encoded data removed]"
     },
     "metadata": {
      "needs_background": "light"
     },
     "output_type": "display_data"
    }
   ],
   "source": [
    "# Oppgave 1 f)\n",
    "def create_axs():\n",
    "    _, axs = plt.subplots(2)\n",
    "    return axs\n",
    "\n",
    "def plot_energy_and_grid(energy, final_grid):\n",
    "    ax1, ax2 = create_axs()\n",
    "    ax1.pcolormesh(final_grid[::-1, ])\n",
    "    ax2.plot(energy)\n",
    "    plt.show()\n",
    "\n",
    "def simulate_monomers(N, M, N_s, T):\n",
    "    grid = create_grid(N, M)\n",
    "    grid, epsilon, _ = monte_carlo(grid, N_s, M, T)\n",
    "    plot_energy_and_grid(epsilon, grid)\n",
    "\n",
    "N_s = 50_000\n",
    "N = 15\n",
    "M = 25\n",
    "T = [200, 500]\n",
    "\n",
    "simulate_monomers(N,M,N_s, T[0])\n",
    "simulate_monomers(N,M,N_s, T[1])"
   ],
   "metadata": {
    "collapsed": false,
    "pycharm": {
     "name": "#%%\n"
    }
   }
  },
  {
   "cell_type": "code",
   "execution_count": 9,
   "outputs": [],
   "source": [
    "# Oppgave 1 g)\n",
    "\n",
    "@njit\n",
    "def get_cluster_grid(grid):\n",
    "    cluster_grid = np.zeros_like(grid)\n",
    "    monomer_positions = np.where(grid != 0)\n",
    "    cluster = 0\n",
    "    for monomer_position in zip(*monomer_positions):\n",
    "        if cluster_grid[monomer_position] == 0:\n",
    "            cluster += 1\n",
    "            cluster_grid[monomer_position] = cluster\n",
    "            add_neighbours_to_cluster(grid, cluster_grid, cluster, monomer_position)\n",
    "\n",
    "    return cluster_grid, cluster"
   ],
   "metadata": {
    "collapsed": false,
    "pycharm": {
     "name": "#%%\n"
    }
   }
  },
  {
   "cell_type": "code",
   "execution_count": 10,
   "outputs": [
    {
     "data": {
      "text/plain": "<Figure size 432x288 with 1 Axes>",
      "image/png": "[encoded data removed]"
     },
     "metadata": {
      "needs_background": "light"
     },
     "output_type": "display_data"
    }
   ],
   "source": [
    "# Oppgave 1 h)\n",
    "def plot_mean_cluster_sizes(mean_cluster_sizes, temperatures):\n",
    "    plt.plot(temperatures, mean_cluster_sizes)\n",
    "    plt.show()\n",
    "\n",
    "def t_equil(T, t_max, s, T_l, C):\n",
    "    return int(t_max * np.exp(-s * (T - T_l)) + C)\n",
    "\n",
    "def sim_mean_cluster_size():\n",
    "    t_max = 100_000\n",
    "    s = 1 / 200\n",
    "    T_l = 100\n",
    "    T_h = 1_000\n",
    "    temperatures = np.linspace(T_l, T_h, 10)\n",
    "    t_r = 1000\n",
    "    C = 10_000\n",
    "    N = 15\n",
    "    M = 25\n",
    "    n = 100\n",
    "\n",
    "    results = [monte_carlo(grid=create_grid(N, M),\n",
    "                           N_s=t_equil(T, t_max, s, T_l, C) + t_r * n,\n",
    "                           M=M, T=T, n=n,\n",
    "                           t_equil=t_equil(T, t_max, s, T_l, C),\n",
    "                           t_r=t_r)\n",
    "               for T in temperatures]\n",
    "\n",
    "    mean_cluster_sizes = [mean_cluster_size for _, _, mean_cluster_size in results]\n",
    "    plot_mean_cluster_sizes(mean_cluster_sizes, temperatures)\n",
    "\n",
    "sim_mean_cluster_size()"
   ],
   "metadata": {
    "collapsed": false,
    "pycharm": {
     "name": "#%%\n"
    }
   }
  },
  {
   "cell_type": "markdown",
   "source": [
    "Oppgave 2"
   ],
   "metadata": {
    "collapsed": false,
    "pycharm": {
     "name": "#%% md\n"
    }
   }
  },
  {
   "cell_type": "code",
   "execution_count": 11,
   "outputs": [],
   "source": [
    "# Oppgave 2 a)\n",
    "\n",
    "def random_available_position_index(grid):\n",
    "    indices = np.array(np.where(grid == 0)).T\n",
    "    i = np.random.randint(len(indices))\n",
    "    return tuple(indices[i])\n",
    "\n",
    "\n",
    "def available_neighbor_positions(grid, monomer_positions):\n",
    "    N = len(grid)\n",
    "    return {position for monomer in monomer_positions\n",
    "            for position in neighbor_coordinates(N, *monomer)\n",
    "            if grid[position] == 0}\n",
    "\n",
    "\n",
    "def random_available_neighbor_position(grid, monomer_positions):\n",
    "    neighbor_coords = available_neighbor_positions(grid, monomer_positions)\n",
    "    return random.sample(neighbor_coords, 1)[0]\n",
    "\n",
    "\n",
    "def create_polymer_grid(N, M, L):\n",
    "    grid = np.zeros((N, N), dtype=int)\n",
    "    polymers = [polymers for polymers in range(-M, M + 1) if polymers != 0]\n",
    "\n",
    "    for polymer in polymers:\n",
    "        rand_position = random_available_position_index(grid)\n",
    "        grid[rand_position] = polymer\n",
    "\n",
    "        monomer_positions = np.zeros((L, 2), dtype=int)\n",
    "        monomer_positions[0] = rand_position\n",
    "\n",
    "        for j in range(1, L):\n",
    "            neighbor_positon = random_available_neighbor_position(grid, monomer_positions[:j])\n",
    "            grid[neighbor_positon] = polymer\n",
    "            monomer_positions[j] = neighbor_positon\n",
    "\n",
    "    return grid"
   ],
   "metadata": {
    "collapsed": false,
    "pycharm": {
     "name": "#%%\n"
    }
   }
  },
  {
   "cell_type": "code",
   "execution_count": 12,
   "outputs": [],
   "source": [
    "# Oppgave 2 b)\n",
    "\n",
    "@njit\n",
    "def calc_relative_energy(grid):\n",
    "    N = len(grid)\n",
    "    monomer_indices = np.where(grid != 0)\n",
    "    relative_energy = 0\n",
    "\n",
    "    for monomer_index in zip(*monomer_indices):\n",
    "        monomer = grid[monomer_index]\n",
    "        for neighbor_coord in neighbor_coordinates(N, *monomer_index):\n",
    "            neighbour_monomer = grid[neighbor_coord]\n",
    "            if neighbour_monomer != monomer and neighbour_monomer != 0:  # i.e. not the same type or solvent\n",
    "                relative_energy += np.sign(monomer) * np.sign(neighbour_monomer)\n",
    "\n",
    "    return relative_energy"
   ],
   "metadata": {
    "collapsed": false,
    "pycharm": {
     "name": "#%%\n"
    }
   }
  },
  {
   "cell_type": "code",
   "execution_count": 13,
   "outputs": [],
   "source": [
    "# Oppgave 2 c)\n",
    "\n",
    "@njit\n",
    "def is_legal_rigid_move(grid, polymer, attempted_new_positions):\n",
    "    for i, j in attempted_new_positions:\n",
    "        monomer = grid[i, j]\n",
    "        if monomer != 0 and monomer != polymer:\n",
    "            return False\n",
    "    else:\n",
    "        return True\n",
    "\n",
    "@njit\n",
    "def rigid_move(grid, polymer, direction):\n",
    "    N = len(grid)\n",
    "    monomer_positions = np.array([[i, j] for i in range(N) for j in range(N) if grid[i, j] == polymer])\n",
    "\n",
    "    attempted_new_positions = (monomer_positions + direction) % N\n",
    "\n",
    "    if is_legal_rigid_move(grid, polymer, attempted_new_positions):\n",
    "        new_grid = np.copy(grid)\n",
    "        for i, j in monomer_positions:\n",
    "            new_grid[i, j] = 0\n",
    "        for i, j in attempted_new_positions:\n",
    "            new_grid[i, j] = polymer\n",
    "        return new_grid\n",
    "    else:\n",
    "        return grid"
   ],
   "metadata": {
    "collapsed": false,
    "pycharm": {
     "name": "#%%\n"
    }
   }
  },
  {
   "cell_type": "code",
   "execution_count": 14,
   "outputs": [
    {
     "name": "stderr",
     "output_type": "stream",
     "text": [
      "C:\\Users\\trygv\\AppData\\Local\\Temp\\ipykernel_18332\\3929427981.py:18: DeprecationWarning: Sampling from a set deprecated\n",
      "since Python 3.9 and will be removed in a subsequent version.\n",
      "  return random.sample(neighbor_coords, 1)[0]\n"
     ]
    },
    {
     "data": {
      "text/plain": "<Figure size 432x288 with 2 Axes>",
      "image/png": "[encoded data removed]"
     },
     "metadata": {
      "needs_background": "light"
     },
     "output_type": "display_data"
    }
   ],
   "source": [
    "# Oppgave 2 d)\n",
    "@njit\n",
    "def allways_false(*args): return False\n",
    "\n",
    "def simulation_with_polymers():\n",
    "    N = 30\n",
    "    L = 13\n",
    "    M = 6\n",
    "    T = 200\n",
    "    N_s = 30_000\n",
    "    grid = create_polymer_grid(N, M, L)\n",
    "    final_grid, energy, _ = monte_carlo(grid, N_s, M, T, move_polymer=rigid_move, is_illegal_move=allways_false)\n",
    "    plot_energy_and_grid(energy, final_grid)\n",
    "\n",
    "simulation_with_polymers()"
   ],
   "metadata": {
    "collapsed": false,
    "pycharm": {
     "name": "#%%\n"
    }
   }
  },
  {
   "cell_type": "code",
   "execution_count": 15,
   "outputs": [],
   "source": [
    "# Oppgave 2 e) og f)\n",
    "\n",
    "@njit\n",
    "def is_polymer_broken(grid, polymer):\n",
    "    N = len(grid)\n",
    "    monomer_positions = np.array([[i, j] for i in range(N) for j in range(N) if grid[i, j] == polymer])\n",
    "\n",
    "    clean_grid = np.zeros((N, N))\n",
    "    for monomer in zip(monomer_positions):\n",
    "        clean_grid[monomer] = polymer\n",
    "    new_grid = return_cluster(clean_grid, monomer_positions[0][0], monomer_positions[0][1], polymer)\n",
    "    new_monomer_positions = np.array([[i, j] for i in range(N) for j in range(N) if new_grid[i, j] == -polymer])\n",
    "\n",
    "    if len(monomer_positions) == len(new_monomer_positions):\n",
    "        return False\n",
    "    return True\n",
    "\n",
    "@njit\n",
    "def return_cluster(grid, i, j, polymer):\n",
    "    N = len(grid)\n",
    "    neighbours = neighbor_coordinates(N, i, j)\n",
    "\n",
    "    for neighbour in neighbours:\n",
    "        if grid[neighbour[0], neighbour[1]] == polymer:\n",
    "            grid[neighbour[0], neighbour[1]] = -polymer\n",
    "            grid = return_cluster(grid, neighbour[0], neighbour[1], polymer)\n",
    "    return grid\n",
    "\n",
    "@njit\n",
    "def medium_flexibility_move(grid, polymer, direction):\n",
    "    N = len(grid)\n",
    "    monomer_positions = np.array([[i, j] for i in range(N) for j in range(N) if grid[i, j] == polymer])\n",
    "    attempted_new_positions = (monomer_positions + direction) % N\n",
    "    if is_legal_rigid_move(grid, polymer, attempted_new_positions):\n",
    "        return rigid_move(grid, polymer, direction)\n",
    "\n",
    "    new_grid = np.copy(grid)\n",
    "    for coordinate in monomer_positions:\n",
    "        value_at_new_position = grid[(coordinate[0]+direction[0]) % N, (coordinate[1] + direction[1]) %N]\n",
    "\n",
    "        if value_at_new_position != 0 and value_at_new_position != polymer:\n",
    "            for ind, coord in enumerate(monomer_positions):\n",
    "                if direction[0]:\n",
    "                    if coord[1] == coordinate[1]:\n",
    "                        attempted_new_positions[ind] -= direction\n",
    "                else:\n",
    "                    if coord[0] == coordinate[0]:\n",
    "                        attempted_new_positions[ind] -= direction\n",
    "    for i, j in monomer_positions:\n",
    "        new_grid[i, j] = 0\n",
    "    for i, j in attempted_new_positions:\n",
    "        new_grid[i, j] = polymer\n",
    "    check_grid = np.copy(new_grid)\n",
    "    if is_polymer_broken(check_grid, polymer):\n",
    "        return grid\n",
    "    return new_grid"
   ],
   "metadata": {
    "collapsed": false,
    "pycharm": {
     "name": "#%%\n"
    }
   }
  },
  {
   "cell_type": "code",
   "execution_count": 1,
   "outputs": [
    {
     "ename": "NameError",
     "evalue": "name 'create_polymer_grid' is not defined",
     "output_type": "error",
     "traceback": [
      "\u001B[1;31m---------------------------------------------------------------------------\u001B[0m",
      "\u001B[1;31mNameError\u001B[0m                                 Traceback (most recent call last)",
      "Input \u001B[1;32mIn [1]\u001B[0m, in \u001B[0;36m<module>\u001B[1;34m\u001B[0m\n\u001B[0;32m     15\u001B[0m     t1 \u001B[38;5;241m=\u001B[39m time\u001B[38;5;241m.\u001B[39mperf_counter()\n\u001B[0;32m     16\u001B[0m     \u001B[38;5;28mprint\u001B[39m(\u001B[38;5;124mf\u001B[39m\u001B[38;5;124m\"\u001B[39m\u001B[38;5;124mTid brukt: \u001B[39m\u001B[38;5;132;01m{\u001B[39;00mt1\u001B[38;5;241m-\u001B[39mt0\u001B[38;5;132;01m}\u001B[39;00m\u001B[38;5;124m på \u001B[39m\u001B[38;5;132;01m{\u001B[39;00mN_s\u001B[38;5;132;01m}\u001B[39;00m\u001B[38;5;124m iterasjoner\u001B[39m\u001B[38;5;124m\"\u001B[39m)\n\u001B[1;32m---> 18\u001B[0m \u001B[43msimulation_with_polymers_using_medium_flexibility\u001B[49m\u001B[43m(\u001B[49m\u001B[43m)\u001B[49m\n",
      "Input \u001B[1;32mIn [1]\u001B[0m, in \u001B[0;36msimulation_with_polymers_using_medium_flexibility\u001B[1;34m()\u001B[0m\n\u001B[0;32m      7\u001B[0m T \u001B[38;5;241m=\u001B[39m \u001B[38;5;241m200\u001B[39m\n\u001B[0;32m      8\u001B[0m N_s \u001B[38;5;241m=\u001B[39m \u001B[38;5;241m2000\u001B[39m\n\u001B[1;32m----> 9\u001B[0m grid \u001B[38;5;241m=\u001B[39m \u001B[43mcreate_polymer_grid\u001B[49m(N, M, L)\n\u001B[0;32m     10\u001B[0m t0\u001B[38;5;241m=\u001B[39mtime\u001B[38;5;241m.\u001B[39mperf_counter()\n\u001B[0;32m     11\u001B[0m final_grid, energy, _ \u001B[38;5;241m=\u001B[39m monte_carlo(grid, N_s, M, T,\n\u001B[0;32m     12\u001B[0m                                     move_polymer\u001B[38;5;241m=\u001B[39mmedium_flexibility_move,\n\u001B[0;32m     13\u001B[0m                                     is_illegal_move\u001B[38;5;241m=\u001B[39mallways_false)\n",
      "\u001B[1;31mNameError\u001B[0m: name 'create_polymer_grid' is not defined"
     ]
    }
   ],
   "source": [
    "# Oppgave 2 g)\n",
    "\n",
    "def simulation_with_polymers_using_medium_flexibility():\n",
    "    N = 30\n",
    "    L = 13\n",
    "    M = 6\n",
    "    T = 200\n",
    "    N_s = 2000\n",
    "    grid = create_polymer_grid(N, M, L)\n",
    "    t0=time.perf_counter()\n",
    "    final_grid, energy, _ = monte_carlo(grid, N_s, M, T,\n",
    "                                        move_polymer=medium_flexibility_move,\n",
    "                                        is_illegal_move=allways_false)\n",
    "    plot_energy_and_grid(energy, final_grid)\n",
    "    t1 = time.perf_counter()\n",
    "    print(f\"Tid brukt: {t1-t0} på {N_s} iterasjoner\")\n",
    "\n",
    "simulation_with_polymers_using_medium_flexibility()"
   ],
   "metadata": {
    "collapsed": false,
    "pycharm": {
     "name": "#%%\n"
    }
   }
  },
  {
   "cell_type": "code",
   "execution_count": null,
   "outputs": [],
   "source": [
    "# Oppgave 2 h)\n",
    "\n",
    "def plot_mean_cluster_sizes_per_L(mean_cluster_sizes_per_L, L):\n",
    "    plt.plot(L, mean_cluster_sizes_per_L)\n",
    "    plt.show()\n",
    "\n",
    "def calculate_expected_values():\n",
    "    T = 300\n",
    "    t_r = 1000\n",
    "    N = 30\n",
    "    M = 5\n",
    "    N_s = 30_000\n",
    "    mean_cluster_sizes_per_L = np.zeros(13)\n",
    "    L = [i for i in range(3, 42, 3)]\n",
    "\n",
    "    for i in range(13):\n",
    "        grid = create_polymer_grid(N, M, L[i])\n",
    "        final_grid, energy, _ = monte_carlo(grid, N_s, M, T, move_polymer=medium_flexibility_move, is_illegal_move=allways_false)\n",
    "        mean_cluster_sizes_per_L[i] = _ / L[i]\n",
    "    plot_mean_cluster_sizes_per_L(mean_cluster_sizes_per_L, L)\n",
    "\n",
    "calculate_expected_values()"
   ],
   "metadata": {
    "collapsed": false,
    "pycharm": {
     "name": "#%%\n",
     "is_executing": true
    }
   }
  },
  {
   "cell_type": "code",
   "execution_count": null,
   "outputs": [],
   "source": [],
   "metadata": {
    "collapsed": false,
    "pycharm": {
     "name": "#%%\n"
    }
   }
  }
 ],
 "metadata": {
  "kernelspec": {
   "display_name": "Python 3",
   "language": "python",
   "name": "python3"
  },
  "language_info": {
   "codemirror_mode": {
    "name": "ipython",
    "version": 2
   },
   "file_extension": ".py",
   "mimetype": "text/x-python",
   "name": "python",
   "nbconvert_exporter": "python",
   "pygments_lexer": "ipython2",
   "version": "2.7.6"
  }
 },
 "nbformat": 4,
 "nbformat_minor": 0
}