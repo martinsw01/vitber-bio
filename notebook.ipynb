{
 "cells": [
  {
   "cell_type": "markdown",
   "metadata": {
    "collapsed": true,
    "pycharm": {
     "name": "#%% md\n"
    }
   },
   "source": [
    "Oppgave 1"
   ]
  },
  {
   "cell_type": "code",
   "source": [
    "import numpy as np\n",
    "import matplotlib.pyplot as plt\n",
    "from numba import njit\n",
    "import random"
   ],
   "metadata": {
    "collapsed": false,
    "pycharm": {
     "name": "#%%\n"
    }
   },
   "execution_count": 2,
   "outputs": []
  },
  {
   "cell_type": "code",
   "execution_count": 3,
   "outputs": [],
   "source": [
    "# Oppgave 1a)\n",
    "\n",
    "def create_grid(N, M):\n",
    "    grid = np.zeros((N, N), dtype=int)\n",
    "    indices = [(i, j) for i in range(N) for j in range(N)]\n",
    "    random_monomer_indices = random.sample(indices, 2 * M)\n",
    "    monomers = [m for m in range(-M, M + 1) if m != 0]\n",
    "    for monomer, index in zip(monomers, random_monomer_indices):\n",
    "        grid[index] = monomer\n",
    "    return grid"
   ],
   "metadata": {
    "collapsed": false,
    "pycharm": {
     "name": "#%%\n"
    }
   }
  },
  {
   "cell_type": "code",
   "execution_count": 4,
   "outputs": [
    {
     "data": {
      "text/plain": "<Figure size 432x288 with 1 Axes>",
      "image/png": "[encoded data removed]"
     },
     "metadata": {
      "needs_background": "light"
     },
     "output_type": "display_data"
    }
   ],
   "source": [
    "# Oppgave 1b)\n",
    "\n",
    "def show_monomers(grid, M):\n",
    "    \"\"\"\n",
    "    Input is the grid (grid) as well as the number of monomers (M).\n",
    "    \"\"\"\n",
    "    plt.figure(1)\n",
    "    plt.pcolormesh(np.sign(grid)[::-1,])\n",
    "    plt.title(f\"{2*M} monomers\")\n",
    "    plt.show()\n",
    "\n",
    "N = 15\n",
    "M = 20\n",
    "grid = create_grid(N, M)\n",
    "show_monomers(grid, M)"
   ],
   "metadata": {
    "collapsed": false,
    "pycharm": {
     "name": "#%%\n"
    }
   }
  },
  {
   "cell_type": "code",
   "execution_count": 5,
   "outputs": [],
   "source": [
    "# Oppgave 1c)\n",
    "\n",
    "@njit\n",
    "def neighbor_coordinates(N, i, j):\n",
    "    neighbors = (((i - 1) % N, j), (i, (j - 1) % N), ((i + 1) % N, j), (i, (j + 1) % N))\n",
    "    return neighbors"
   ],
   "metadata": {
    "collapsed": false,
    "pycharm": {
     "name": "#%%\n"
    }
   }
  },
  {
   "cell_type": "code",
   "execution_count": 7,
   "outputs": [
    {
     "name": "stdout",
     "output_type": "stream",
     "text": [
      "-2\n"
     ]
    }
   ],
   "source": [
    "# Oppgave 1d)\n",
    "\n",
    "ε_r = 78  # [1] Relative permittivity\n",
    "ε_0 = 8.85418782e-12  # [m^-3 kg^-1 s^4 A^2] vacuum permittivity\n",
    "a = 23e-6  # [m] Distance between grid points (23 microns)\n",
    "e = 1.60217662e-19  # [C]\n",
    "α = e ** 2 / (4 * np.pi * ε_r * ε_0 * a ** 2)\n",
    "\n",
    "@njit\n",
    "def calc_relative_energy(grid):\n",
    "    N = len(grid)\n",
    "    monomer_indices = np.where(grid != 0)\n",
    "    relative_energy = 0\n",
    "\n",
    "    for monomer_index in zip(*monomer_indices):\n",
    "        monomer = grid[monomer_index]\n",
    "        for neighbor_coord in neighbor_coordinates(N, *monomer_index):\n",
    "            neighbour_monomer = grid[neighbor_coord]\n",
    "            if neighbour_monomer != monomer and neighbour_monomer != 0:  # i.e. not the same type or solvent\n",
    "                relative_energy += np.sign(monomer) * np.sign(neighbour_monomer)\n",
    "\n",
    "    return relative_energy\n",
    "print(calc_relative_energy(grid))"
   ],
   "metadata": {
    "collapsed": false,
    "pycharm": {
     "name": "#%%\n"
    }
   }
  },
  {
   "cell_type": "code",
   "execution_count": null,
   "outputs": [],
   "source": [
    "# Oppgave 1 e)\n",
    "\n",
    "@njit\n",
    "def move_random_polymer(grid, M, is_illegal_move, move_polymer):\n",
    "    random_polymer, random_direction = choose_random_legal_move(grid, M, is_illegal_move)\n",
    "    return move_polymer(grid, random_polymer, random_direction)\n",
    "\n",
    "\n",
    "@njit\n",
    "def illegal_move(grid, monomer, direction):\n",
    "    N = len(grid)\n",
    "    monomer_location = np.where(grid == monomer)\n",
    "    return grid[(monomer_location[0][0] + direction[0]) % N, (monomer_location[1][0] + direction[1]) % N] != 0\n",
    "\n",
    "@njit\n",
    "def move_monomer(grid, monomer, direction):\n",
    "    N = len(grid)\n",
    "    new_grid = np.copy(grid)\n",
    "    monomer_location = np.where(grid == monomer)\n",
    "    new_grid[monomer_location[0][0], monomer_location[1][0]] = 0\n",
    "    new_grid[(monomer_location[0][0] + direction[0]) % N, (monomer_location[1][0] + direction[1]) % N] = monomer\n",
    "    return new_grid\n",
    "\n",
    "@njit\n",
    "def do_nothing(*args): pass\n",
    "\n",
    "@njit\n",
    "def choose_random_polymer(M):\n",
    "    a = np.random.randint(-M, M)\n",
    "    while not a:\n",
    "        a = np.random.randint(-M, M)\n",
    "    return a\n",
    "\n",
    "\n",
    "directions = np.array([[-1, 0], [0, -1], [1, 0], [0, 1]])\n",
    "@njit\n",
    "def choose_random_direction():\n",
    "    i = np.random.randint(0, 4)\n",
    "    return directions[i]\n",
    "\n",
    "@njit\n",
    "def choose_random_legal_move(grid, M, is_illegal_move=illegal_move):\n",
    "    random_monomer = choose_random_polymer(M)\n",
    "    random_direction = choose_random_direction()\n",
    "    while is_illegal_move(grid, random_monomer, random_direction):\n",
    "        random_monomer = choose_random_polymer(M)\n",
    "        random_direction = choose_random_direction()\n",
    "    return random_monomer, random_direction\n",
    "\n",
    "@njit\n",
    "def monte_carlo(grid, N_s, M, T, n=0, t_equil=np.inf, t_r=np.inf,\n",
    "                is_illegal_move=illegal_move, move_polymer=move_monomer, on_iteration=do_nothing):\n",
    "    epsilon = np.zeros(N_s)\n",
    "    beta = 1 / (T * 1.380649e-23) * α / 2\n",
    "\n",
    "    cluster_sizes = np.zeros(n)\n",
    "    measure_index = 0\n",
    "\n",
    "    for t in range(N_s):\n",
    "        rel_energy = calc_relative_energy(grid)\n",
    "\n",
    "        new_grid = move_random_polymer(grid, M, is_illegal_move, move_polymer)\n",
    "        new_rel_energy = calc_relative_energy(new_grid)\n",
    "\n",
    "        if new_rel_energy < rel_energy or thermal_fluctuation(new_rel_energy, rel_energy, beta):\n",
    "            grid = new_grid\n",
    "            rel_energy = new_rel_energy\n",
    "\n",
    "        epsilon[t] = rel_energy\n",
    "\n",
    "        if should_measure(t, t_equil, t_r):\n",
    "            _, d = get_cluster_grid(grid)\n",
    "            cluster_sizes[measure_index] = 2 * M / d\n",
    "            measure_index += 1\n",
    "\n",
    "        if t % 100 == 1:\n",
    "            on_iteration(grid, epsilon[:t])\n",
    "\n",
    "    if t_r == np.inf:\n",
    "        return grid, epsilon, 0\n",
    "\n",
    "    return grid, epsilon, np.mean(cluster_sizes[:measure_index])"
   ],
   "metadata": {
    "collapsed": false,
    "pycharm": {
     "name": "#%%\n"
    }
   }
  }
 ],
 "metadata": {
  "kernelspec": {
   "display_name": "Python 3",
   "language": "python",
   "name": "python3"
  },
  "language_info": {
   "codemirror_mode": {
    "name": "ipython",
    "version": 2
   },
   "file_extension": ".py",
   "mimetype": "text/x-python",
   "name": "python",
   "nbconvert_exporter": "python",
   "pygments_lexer": "ipython2",
   "version": "2.7.6"
  }
 },
 "nbformat": 4,
 "nbformat_minor": 0
}